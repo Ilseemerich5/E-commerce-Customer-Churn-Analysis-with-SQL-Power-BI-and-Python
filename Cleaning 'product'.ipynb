# Data Cleaning: Product Dataset
#
# Context
# The original `product.csv` file presented inconsistencies:
# - Some rows contained 11 columns due to extra commas.
# - Others contained 10 columns as expected.
#
# This inconsistency caused issues when importing the data for analysis.
#
# Cleaning Approach
# To standardize the dataset:
# - When a row had 11 columns, the 10th and 11th columns (both related to product description) were merged into a single column.
# - The resulting dataset (`product_clean.csv`) has exactly 10 columns, ensuring consistency.

import csv

input_file = 'product.csv'
output_file = 'product_clean.csv'

# Open the input file for reading and output file for writing
with open(input_file, newline='', encoding='utf-8') as f_in, \
     open(output_file, 'w', newline='', encoding='utf-8') as f_out:

    reader = csv.reader(f_in)   # Read rows from the input CSV
    writer = csv.writer(f_out)  # Write rows to the output CSV

    for row in reader:
        # If a row has more than 10 columns, combine the 10th and 11th into the 10th
        if len(row) > 10:
            row[9] = row[9] + ' ' + row[10]  # Join 10th and 11th column with a space
            row = row[:10]  # Keep only the first 10 columns
        writer.writerow(row)  # Write the cleaned row to the output file
