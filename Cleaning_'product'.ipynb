{
  "nbformat": 4,
  "nbformat_minor": 0,
  "metadata": {
    "colab": {
      "provenance": []
    },
    "kernelspec": {
      "name": "python3",
      "display_name": "Python 3"
    },
    "language_info": {
      "name": "python"
    }
  },
  "cells": [
    {
      "cell_type": "code",
      "execution_count": 2,
      "metadata": {
        "id": "wGPX5F-n8Gki"
      },
      "outputs": [],
      "source": [
        "# This code is for cleaning the original 'product.csv' file.\n",
        "# Some rows had 11 columns (extra commas) while others had 10.\n",
        "# To make it consistent, i combine the last two columns into the 10th column,\n",
        "# because both contain information about the product description.\n",
        "\n",
        "import csv\n",
        "\n",
        "input_file = 'product.csv'\n",
        "output_file = 'product_clean.csv'\n",
        "\n",
        "# Open the input file for reading and output file for writing\n",
        "with open(input_file, newline='', encoding='utf-8') as f_in, \\\n",
        "     open(output_file, 'w', newline='', encoding='utf-8') as f_out:\n",
        "\n",
        "    reader = csv.reader(f_in) # Read rows from the input CSV\n",
        "    writer = csv.writer(f_out) # Write rows to the output CSV\n",
        "\n",
        "    for row in reader:\n",
        "        # If a row has more than 10 columns, combine the 10th and 11th into the 10th\n",
        "        if len(row) > 10:\n",
        "            row[9] = row[9] + ' ' + row[10]  # Join 10th and 11th column with a space\n",
        "            row = row[:10] # Keep only the first 10 columns\n",
        "        writer.writerow(row) # Write the cleaned row to the output file"
      ]
    }
  ]
}